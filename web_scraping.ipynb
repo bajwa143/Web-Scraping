{
  "nbformat": 4,
  "nbformat_minor": 0,
  "metadata": {
    "colab": {
      "provenance": []
    },
    "kernelspec": {
      "name": "python3",
      "display_name": "Python 3"
    },
    "language_info": {
      "name": "python"
    }
  },
  "cells": [
    {
      "cell_type": "code",
      "source": [
        "# Install packages when required\n",
        "\"\"\"\n",
        "!pip install requests\n",
        "!pip install html5lib\n",
        "!pip install bs4\n",
        "\"\"\""
      ],
      "metadata": {
        "id": "N8h2hBjD4-Rk"
      },
      "execution_count": null,
      "outputs": []
    },
    {
      "cell_type": "code",
      "source": [
        "import requests\n",
        "from bs4 import BeautifulSoup\n",
        "import csv"
      ],
      "metadata": {
        "id": "7xdHnyxqNitJ"
      },
      "execution_count": 22,
      "outputs": []
    },
    {
      "cell_type": "code",
      "source": [
        "# make user input prompts for city, state\n",
        "# city = input('Please Enter City Name')\n",
        "# for now, using hard-coded input for city and state\n",
        "city = 'San-Jose'\n",
        "state = 'CA'\n",
        "URL = f'https://www.realtor.com/realestateandhomes-search/{city}_{state}'\n",
        "#print(URL)"
      ],
      "metadata": {
        "id": "UaiGeSR5NjUA"
      },
      "execution_count": 23,
      "outputs": []
    },
    {
      "cell_type": "code",
      "source": [
        "headers = {\n",
        "    'User-Agent': 'Mozilla/5.0 (Windows NT 10.0; Win64; x64; rv:98.0) Gecko/20100101 Firefox/98.0',\n",
        "    'Accept': 'text/html,application/xhtml+xml,application/xml;q=0.9,image/webp,*/*;q=0.8',\n",
        "    'Referer': 'https://www.google.com/',\n",
        "    'DNT': '1',\n",
        "    'Upgrade-Insecure-Requests': '1',\n",
        "    'TE': 'Trailers'\n",
        "}\n",
        "\n",
        "session = requests.Session()\n",
        "session.headers.update(headers)\n",
        "try:\n",
        "    response = session.get(URL)\n",
        "    response.raise_for_status()\n",
        "except requests.exceptions.RequestException as e:\n",
        "    print(f'Error in getting response from web:\\n {e}')"
      ],
      "metadata": {
        "id": "1Ux9SEcnnknT"
      },
      "execution_count": 24,
      "outputs": []
    },
    {
      "cell_type": "code",
      "source": [
        "if response.status_code == 200:\n",
        "    soup = BeautifulSoup(response.content, 'html5lib')\n",
        "else:\n",
        "    exit()"
      ],
      "metadata": {
        "id": "5-D7z1PuNsgY"
      },
      "execution_count": 25,
      "outputs": []
    },
    {
      "cell_type": "code",
      "source": [
        "soup.prettify()"
      ],
      "metadata": {
        "id": "La6V93ukb6ys"
      },
      "execution_count": null,
      "outputs": []
    },
    {
      "cell_type": "code",
      "source": [
        "# navigate to properties list container\n",
        "properties_list = soup.find('section', attrs = {'class':'PropertiesList_propertiesContainer__HTNbx PropertiesList_listViewGrid__U_BlK'})\n",
        "#properties_list.prettify()"
      ],
      "metadata": {
        "id": "d4Qx1QtHYeZS"
      },
      "execution_count": 26,
      "outputs": []
    },
    {
      "cell_type": "markdown",
      "source": [
        "We have to find\n",
        "\n",
        "* Property listing title\n",
        "* Property price\n",
        "* Property URL"
      ],
      "metadata": {
        "id": "hMtCPG9lZmQ2"
      }
    },
    {
      "cell_type": "code",
      "source": [
        "# list to hold all properties\n",
        "prop_list = []\n",
        "\n",
        "# Move to each Card/Property result\n",
        "property_placeholder = properties_list.findAll('div',attrs={'class':'BasePropertyCard_propertyCardWrap__Z5y4p'})\n",
        "for prop in property_placeholder:\n",
        "    prop_dict = {}\n",
        "    # find card contents which contains detail regarding each property\n",
        "    card_content = prop.find('div',attrs={'data-testid':'card-content'})\n",
        "\n",
        "    # extract price of each property\n",
        "    try:\n",
        "        price = card_content.find('div',attrs={'data-testid':'card-price'})\n",
        "        print(price.text)\n",
        "        prop_dict['price'] = price.text\n",
        "    except Exception as e:\n",
        "        print(f'Error occur in extracting price:\\n {e}')\n",
        "        prop_dict['price'] = '-'\n",
        "  # get property link\n",
        "    try:\n",
        "        link = card_content.find('a',attrs={'class':'LinkComponent_anchor__0C2xC'})\n",
        "        link_url = 'https://www.realtor.com/'+link['href'].split('?')[0]\n",
        "        print(link_url)\n",
        "        prop_dict['link'] = link_url\n",
        "    except Exception as e:\n",
        "        print(f'Error occur in extracting link:\\n {e}')\n",
        "        prop_dict['link'] = '-'\n",
        "    try:\n",
        "        title_card = card_content.findAll('div',attrs={'class':'content-col-left'})\n",
        "        title = [t.text for t in title_card]\n",
        "        print(', '.join(title))\n",
        "        prop_dict['title'] = ', '.join(title)\n",
        "    except Exception as e:\n",
        "        print(f'Error occur in extracting title:\\n {e}')\n",
        "        prop_dict['title'] = '-'\n",
        "    prop_list.append(prop_dict)"
      ],
      "metadata": {
        "id": "X02X3soCBYvA"
      },
      "execution_count": null,
      "outputs": []
    },
    {
      "cell_type": "code",
      "execution_count": 28,
      "metadata": {
        "id": "8kO7aFoONUyN"
      },
      "outputs": [],
      "source": [
        "filename = 'properties_data.csv'\n",
        "with open(filename, 'w', newline='') as file:\n",
        "\twriter = csv.DictWriter(file,['title','price','link'])\n",
        "\twriter.writeheader()\n",
        "\tfor prop in prop_list:\n",
        "\t\twriter.writerow(prop)\n"
      ]
    },
    {
      "cell_type": "markdown",
      "source": [
        "## TODOs\n",
        "Navigate to all pages one by one"
      ],
      "metadata": {
        "id": "VjvyT1f6vqZC"
      }
    }
  ]
}